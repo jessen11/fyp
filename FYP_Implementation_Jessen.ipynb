{
  "cells": [
    {
      "cell_type": "code",
      "execution_count": 26,
      "metadata": {
        "colab": {
          "base_uri": "https://localhost:8080/"
        },
        "id": "xUMx8RN45D10",
        "outputId": "c1009763-10f5-41e3-f6dc-bdf92cbd0d33"
      },
      "outputs": [
        {
          "output_type": "stream",
          "name": "stdout",
          "text": [
            "Looking in indexes: https://pypi.org/simple, https://us-python.pkg.dev/colab-wheels/public/simple/\n",
            "Requirement already satisfied: numdifftools in /usr/local/lib/python3.8/dist-packages (0.9.41)\n",
            "Requirement already satisfied: numpy>=1.9 in /usr/local/lib/python3.8/dist-packages (from numdifftools) (1.22.4)\n",
            "Requirement already satisfied: scipy>=0.8 in /usr/local/lib/python3.8/dist-packages (from numdifftools) (1.7.3)\n"
          ]
        }
      ],
      "source": [
        "# Imports\n",
        "\n",
        "!pip install numdifftools\n",
        "\n"
      ]
    },
    {
      "cell_type": "code",
      "execution_count": 27,
      "metadata": {
        "id": "iIMZOp8WEotu"
      },
      "outputs": [],
      "source": [
        "import numpy as np\n",
        "import numdifftools as nd\n",
        "import random\n",
        "import heapq\n",
        "import matplotlib.pyplot as plt\n",
        "\n",
        "from sklearn.linear_model import LinearRegression\n",
        "\n",
        "from collections import Counter"
      ]
    },
    {
      "cell_type": "code",
      "execution_count": 28,
      "metadata": {
        "id": "pooelVU3ZB6T"
      },
      "outputs": [],
      "source": [
        "#np.random.seed(1)\n",
        "#random.seed(1)\n",
        "#np.seterr(all='raise')\n"
      ]
    },
    {
      "cell_type": "code",
      "execution_count": 29,
      "metadata": {
        "id": "R1powr3oaqKt"
      },
      "outputs": [],
      "source": [
        "def partial_function(f___,input,pos,value):\n",
        "    tmp  = input[pos]\n",
        "    input[pos] = value\n",
        "    ret = f___(*input)\n",
        "    input[pos] = tmp\n",
        "    return ret\n",
        "\n",
        "def partial_derivative(f,input):\n",
        "    return [2*x for x in input]  # For now, we only deal with L2 norm, so just return this\n",
        "#    ret = np.empty(len(input))\n",
        "#    for i in range(len(input)):\n",
        "#        fg = lambda x:partial_function(f,input,i,x)\n",
        "#        ret[i] = nd.Derivative(fg)(input[i])\n",
        "#    return ret\n"
      ]
    },
    {
      "cell_type": "code",
      "execution_count": 30,
      "metadata": {
        "id": "ZFDsz3g5E-2X"
      },
      "outputs": [],
      "source": [
        "def draw_plot(losses, queries, imgname = None, algorithm = None):\n",
        "     x = np.asarray(queries)\n",
        "     y = np.asarray(losses)\n",
        "\n",
        "     fig, ax = plt.subplots()\n",
        "     ax.plot(x, y, marker='o', color='b')\n",
        "     #ax.legend()\n",
        "     ax.set_xscale('log')\n",
        "     ax.set_yscale('log')\n",
        "     ax.set(xlabel='Total Queries', ylabel='Loss',\n",
        "         title=f'Performance of {algorithm}')\n",
        "     ax.grid()\n",
        "     if imgname:\n",
        "       fig.savefig(f\"../plots/{imgname}\")\n",
        "     plt.show()\n"
      ]
    },
    {
      "cell_type": "code",
      "source": [
        "# This function generates the test cases in the experiment\n",
        "def generate_Ax_test(n, d):\n",
        "  mu = np.array([[np.random.default_rng().pareto(0.5) for i in range(n)]])\n",
        "  x = np.array([[np.random.default_rng().uniform(low = 0.5, high = 1) for i in range(d)]])\n",
        "  mu = mu * (20 / np.max(mu)) # normalize \n",
        "  A = mu.T @ x / (np.linalg.norm(x)**2) \n",
        "  Z = np.random.normal(0, 1/d, size=(n, d))\n",
        "  A = A+Z\n",
        "  ones = np.ones((d, 1))\n",
        "  B = (A @ x.T - mu.T )\n",
        "  A = A - ( B @ ones.T) / np.sum(x)\n",
        "  return A , mu.T, x[0]\n",
        " "
      ],
      "metadata": {
        "id": "c2eGisS4NaN9"
      },
      "execution_count": 32,
      "outputs": []
    },
    {
      "cell_type": "code",
      "execution_count": 33,
      "metadata": {
        "id": "GldYCUxYHmvd"
      },
      "outputs": [],
      "source": [
        "# Simulates arm sampling in the Ax case\n",
        "def sample_arm(A,i,d,x,sample_count,guessed, random = False):\n",
        "  possibility = []\n",
        "  picked = []\n",
        "  for j in range(d):\n",
        "    possibility.append(d * A[i,j] * x[j])\n",
        "  if random:\n",
        "    return np.average(np.random.choice(possibility, size = sample_count, replace = False)) , -1\n",
        "  return np.average(possibility[int(guessed+1):int(min(guessed+sample_count+1,d+1))]),   int(min(guessed+sample_count+1,d+1)-1)\n"
      ]
    },
    {
      "cell_type": "code",
      "execution_count": 35,
      "metadata": {
        "id": "QsoZ7Ql0Wx-C"
      },
      "outputs": [],
      "source": [
        "def adaptive_function_approximation(A,k,x,n, f , epsilon, delta, target_mu):\n",
        "  \"\"\"\n",
        "  This is Algorithm1, modified to perform optimally in the ||Ax||_2^2 setting (read the report for more details) \n",
        "  \"\"\"\n",
        "  budget = n\n",
        "  runbudget = 0\n",
        "  r = 1\n",
        "  guessed_set = [0 for i in range(n)]\n",
        "  guessed_id = [-1 for i in range(n)]\n",
        "  guessed_total = [0 for i in range(n)] \n",
        "  L = 1\n",
        "  tot = 0\n",
        "  uniform_loss = []\n",
        "  query_uniform = []\n",
        "  query_history = []\n",
        "  losses = []\n",
        "  while True:\n",
        "    curr_budget = np.ceil(budget*(((2)**(r-1))))\n",
        "\n",
        "    alloc = np.ceil(curr_budget/n)\n",
        "    \n",
        "    for i in range(n):\n",
        "        if guessed_total[i] >= k:\n",
        "          pass\n",
        "        elif guessed_total[i] + alloc >= k:\n",
        "          new_batch, new_id = sample_arm(A,i,k,x,k,-1)\n",
        "          guessed_set[i] = new_batch\n",
        "          guessed_total[i] =  guessed_total[i] + k\n",
        "        else:\n",
        "          new_batch, new_id = sample_arm(A,i,k,x,alloc,guessed_id[i])\n",
        "          guessed_set[i] = (guessed_set[i] * guessed_total[i] + new_batch * alloc) / (guessed_total[i] + alloc)\n",
        "          guessed_id[i] = new_id\n",
        "          guessed_total[i] = guessed_total[i]+alloc\n",
        "\n",
        "  \n",
        "    guess_mu = guessed_set\n",
        "    runbudget = guessed_total[0]\n",
        "    C_r = np.sqrt(  (np.log(1.0 / delta)) /runbudget)\n",
        "\n",
        "    g = partial_derivative(f,guess_mu)\n",
        "    gL = [ max(abs(i) - C_r, 0.0001) for i in g]\n",
        "    gU = [ abs(i) + C_r for i in g]\n",
        "    sums = sum(gL)\n",
        "\n",
        "    ai = [float(i)/float(sums) for i in gL]\n",
        "    Ti = [min(r,10) * curr_budget * ai[i] for i in range(n)]\n",
        "\n",
        "    final_set = [0 for i in range(n)]\n",
        "    final_total = [0 for i in range(n)]\n",
        "\n",
        "    for z in range(n):\n",
        "      if guessed_total[z] >= k:\n",
        "        final_set[z] = guessed_set[z]\n",
        "        final_total[z] = guessed_total[z]\n",
        "      elif guessed_total[z] + Ti[z] >= k:\n",
        "        new_batch, new_id = sample_arm(A,z,k,x,k, -1)\n",
        "        final_set[z] = new_batch\n",
        "        final_total[z] = guessed_total[z] + k\n",
        "      else:\n",
        "        new_batch, new_id = sample_arm(A,z,k,x,np.ceil(Ti[z]), guessed_id[z])\n",
        "        final_set[z] = (guessed_set[z] * guessed_total[z] + Ti[z] * new_batch ) / (guessed_total[z] + Ti[z])\n",
        "        final_total[z] =  guessed_total[z] + Ti[z]\n",
        "\n",
        "    check = sum([float(gU[i]**2) / float(final_total[i]) for i in range(n)])\n",
        "\n",
        "    final_guess = final_set\n",
        "    loss = abs(f(*final_guess) - f(*target_mu))\n",
        "    losses.append(loss)\n",
        "    query_history.append(sum(final_total))  \n",
        "    if  check <= (epsilon**2) / (16 * np.log(6/delta)):\n",
        "      for z in range(n):\n",
        "        if guessed_total[z] >= k:\n",
        "          pass \n",
        "        elif guessed_total[z] + Ti[z] >= k:\n",
        "          new_batch, new_id = sample_arm(A,z,k,x,k, -1)\n",
        "          guessed_set[z] = new_batch\n",
        "          guessed_total[z] = guessed_total[z] + k\n",
        "        else:\n",
        "          new_batch, new_id = sample_arm(A,z,k,x,np.ceil(Ti[z]), guessed_id[z])\n",
        "          guessed_set[z] = (guessed_set[z] * guessed_total[z] + Ti[z] * new_batch) / (Ti[z] + guessed_total[z])\n",
        "          guessed_total[z] =  guessed_total[z] + Ti[z]\n",
        "      final_guess = guessed_set\n",
        "      loss = abs(f(*final_guess) - f(*target_mu))\n",
        "      status = loss < epsilon\n",
        "      losses.append(loss)\n",
        "      query_history.append(sum(guessed_total))\n",
        "      return loss, status,  np.ceil(sum(guessed_total)), final_guess, losses, query_history, uniform_loss, query_uniform\n",
        "    else:\n",
        "      r = r+1\n",
        "      if r > 19:\n",
        "         return loss, loss < epsilon,  np.ceil(sum(guessed_total)), final_guess, losses, query_history, uniform_loss, query_uniform\n",
        "\n"
      ]
    },
    {
      "cell_type": "code",
      "execution_count": 36,
      "metadata": {
        "id": "WuDEyntD6otb"
      },
      "outputs": [],
      "source": [
        "# This algorithm just sample the algorithm with a given quota\n",
        "# T is the total computation budget\n",
        "def uniform_guess(A,k,x,n, f, target_mu, epsilon, delta):\n",
        "  starting = n\n",
        "  runbudget = 0\n",
        "  guess = [None for i in range(n)]\n",
        "  losses = []\n",
        "  queries = []\n",
        "  L = 10\n",
        "  r = 1\n",
        "  guessed_set = [0 for i in range(n)]\n",
        "  guessed_id = [-1 for i in range(n)]\n",
        "  guessed_total = [0 for i in range(n)]\n",
        "  while True:\n",
        "\n",
        "    budget = starting // n\n",
        "    runbudget = runbudget + budget\n",
        "\n",
        "    for i in range(n):\n",
        "\n",
        "      if budget >= k:\n",
        "        for j in range(n):\n",
        "          new_batch, new_id = sample_arm(A,j,k,x,k,-1)\n",
        "          guessed_set[i] = new_batch\n",
        "          guessed_id[i] = new_id\n",
        "        losses.append(0)\n",
        "        queries.append(queries[-1] + n * k)\n",
        "        return losses, queries        \n",
        "\n",
        "      else:\n",
        "        new_batch, new_id = sample_arm(A,i,k,x,budget,guessed_id[i], random = True)\n",
        "        guessed_set[i] = (guessed_set[i] * guessed_total[i] + new_batch * budget) / (guessed_total[i] + budget)\n",
        "        guessed_id[i] = new_id\n",
        "        guessed_total[i] = guessed_total[i] + budget\n",
        "    \n",
        "    C_r = np.sqrt(  (np.log(1.0 / delta)) /runbudget)\n",
        "    guess_mu = guessed_set\n",
        "    g = partial_derivative(f,guess_mu)\n",
        "    sums = sum(g)\n",
        "\n",
        "    ai = [float(i)/float(sums) for i in g]\n",
        "    Ti = [min(r,10) * budget * ai[i] for i in range(n)]\n",
        "    check = sum([float(g[i]**2) / float(Ti[i]) for i in range(n)])\n",
        "    queries.append(sum(guessed_total))\n",
        "    losses.append(abs(f(*guess_mu) - f(*target_mu)))\n",
        "    if  check <  (epsilon**2) / (16 * np.log(6/delta)) :\n",
        "      return losses, queries\n",
        "    else:\n",
        "      starting = starting * 2\n",
        "      r = r+1\n",
        "      if r > 19:\n",
        "        return losses, queries\n"
      ]
    },
    {
      "cell_type": "code",
      "execution_count": 37,
      "metadata": {
        "id": "n2m8J1A2epUC"
      },
      "outputs": [],
      "source": [
        "def convert_Ax_to_function(A):\n",
        "  def f(*guess):\n",
        "    ans = [0 for i in range(len(A))]\n",
        "    for i in range(len(A)):\n",
        "      ans[i] = np.dot(guess, A[i,:])\n",
        "    \n",
        "    return sum(o*o for o in ans)\n",
        "\n",
        "  return f\n"
      ]
    },
    {
      "cell_type": "code",
      "execution_count": 38,
      "metadata": {
        "id": "lAirlCiKxCaM"
      },
      "outputs": [],
      "source": [
        "# L2 norm squared\n",
        "def power(*mu):\n",
        "  return sum(o*o for o in mu)"
      ]
    },
    {
      "cell_type": "code",
      "source": [],
      "metadata": {
        "id": "kZ_91asyUDWD"
      },
      "execution_count": 38,
      "outputs": []
    },
    {
      "cell_type": "code",
      "execution_count": 38,
      "metadata": {
        "id": "owisNDBEHB_f"
      },
      "outputs": [],
      "source": []
    },
    {
      "cell_type": "code",
      "execution_count": 39,
      "metadata": {
        "id": "Z03p65xFg8S3"
      },
      "outputs": [],
      "source": [
        "# To keep track of losses\n",
        "def experiment_adaptive(n,k,A,mu,x,epsilon,delta):\n",
        "\n",
        "  mu = [i[0] for i in mu.tolist()] # for total derivative\n",
        "\n",
        "  loss,status,total,guess,losses,history,uniform_loss, query_uniform = adaptive_function_approximation(A,k ,x,n, power , epsilon, delta, mu)\n",
        "  true_loss = []\n",
        "  true_uniform = []\n",
        "  for l in losses:\n",
        "    true_loss.append(l)\n",
        "  losses = true_loss\n",
        "  for l in uniform_loss:\n",
        "    true_uniform.append(l)\n",
        "  uniform_losses = true_uniform\n",
        "  return losses,history\n"
      ]
    },
    {
      "cell_type": "code",
      "execution_count": 40,
      "metadata": {
        "id": "SIKU7SdzHIrk"
      },
      "outputs": [],
      "source": [
        "def experiment_uniform(n,k,A,mu,x,epsilon,delta):\n",
        "  mu = [i[0] for i in mu.tolist()] # for total derivative\n",
        "\n",
        "  curr = n\n",
        "  losses = []\n",
        "  queries = []\n",
        "  losses ,queries = uniform_guess(A,k,x,n, power, mu,epsilon, delta)\n",
        "  return losses, queries"
      ]
    },
    {
      "cell_type": "code",
      "execution_count": 40,
      "metadata": {
        "id": "5oiPeK0RU5hU"
      },
      "outputs": [],
      "source": []
    },
    {
      "cell_type": "code",
      "execution_count": 41,
      "metadata": {
        "id": "n2oF5T6IpSGT"
      },
      "outputs": [],
      "source": [
        "# Find the theoretical gain of a test case\n",
        "def gain(f,n, mu):\n",
        "  par = partial_derivative(f, mu)\n",
        "  return n * sum([o*o for o in par]) / (sum(par)**2)"
      ]
    },
    {
      "cell_type": "code",
      "execution_count": 41,
      "metadata": {
        "id": "NfiJtjbTHZcU"
      },
      "outputs": [],
      "source": []
    },
    {
      "cell_type": "code",
      "execution_count": 42,
      "metadata": {
        "id": "-5dgCmro5O-t"
      },
      "outputs": [],
      "source": [
        "# Conduct one round of test\n",
        "def experiment( A, mu, x, n, k, epsilon, delta):\n",
        "  loss,history= experiment_adaptive(n,k,A,mu,x,epsilon,delta)\n",
        "  uniform_loss , uniform_history = experiment_uniform(n,k,A,mu,x,epsilon,delta)\n",
        "  return loss, history, uniform_loss, uniform_history"
      ]
    },
    {
      "cell_type": "code",
      "execution_count": 43,
      "metadata": {
        "id": "xMjsOBw6IFyb"
      },
      "outputs": [],
      "source": [
        "n = 10\n",
        "k = 10000\n",
        "epsilon = 10**-4\n",
        "delta  = 0.01\n",
        "#l = []\n",
        "#m = []\n",
        "queries = []\n",
        "uniform_queries = []\n",
        "losses = []\n",
        "uniform_losses = []\n",
        "A,mu,x = generate_Ax_test(n, k)\n",
        "\n",
        "for i in range(100):\n",
        "  perm = np.random.permutation(k)\n",
        "  idx = np.empty_like(perm)\n",
        "  idx[perm] = np.arange(len(perm))\n",
        "  A[:] = A[:, idx]\n",
        "  x[:] = x[idx]\n",
        "  \n",
        "  loss, history, uniform_loss, uniform_history = experiment(A,mu,x,n,k,epsilon,delta)\n",
        "  queries.append(history)\n",
        "  uniform_queries.append(uniform_history)\n",
        "  losses.append(loss)\n",
        "  uniform_losses.append(uniform_loss)\n",
        "\n",
        "\n",
        "#for j in m:\n",
        "#  print(j)"
      ]
    },
    {
      "cell_type": "code",
      "execution_count": 44,
      "metadata": {
        "id": "UXQkK4Jpki-D"
      },
      "outputs": [],
      "source": [
        "def patch(arr):\n",
        "  max_len = len(max(arr, key=len))\n",
        "  ans = [l+[float('nan')]*(max_len-len(l)) for l in arr]\n",
        "  return ans"
      ]
    },
    {
      "cell_type": "code",
      "execution_count": 45,
      "metadata": {
        "colab": {
          "base_uri": "https://localhost:8080/"
        },
        "id": "6pr9OwPxI964",
        "outputId": "3cd08934-e3af-4b03-f01d-d9fef37d460c"
      },
      "outputs": [
        {
          "output_type": "stream",
          "name": "stdout",
          "text": [
            "actual_gain =  1.4503325820460666\n"
          ]
        }
      ],
      "source": [
        "\n",
        "losses = np.average(patch(losses), axis = 0)\n",
        "uniform_losses = np.average(patch(uniform_losses), axis = 0)\n",
        "queries = np.average(patch(queries), axis = 0)\n",
        "uniform_queries = np.average(patch(uniform_queries), axis = 0)\n",
        "\n",
        "print(\"actual_gain = \",  uniform_queries[-1] / queries[-1])\n"
      ]
    },
    {
      "cell_type": "code",
      "execution_count": 46,
      "metadata": {
        "colab": {
          "base_uri": "https://localhost:8080/",
          "height": 299
        },
        "id": "tq8-89yif4yP",
        "outputId": "d3ff3ba0-52d7-4b1e-9e54-cea4466e020c"
      },
      "outputs": [
        {
          "output_type": "display_data",
          "data": {
            "text/plain": [
              "<Figure size 432x288 with 1 Axes>"
            ],
            "image/png": "[encoded data removed]"
          },
          "metadata": {
            "needs_background": "light"
          }
        }
      ],
      "source": [
        "# Plot performance\n",
        "xa = (queries)\n",
        "ya = (losses)\n",
        "xu = (uniform_queries)\n",
        "yu = (uniform_losses)\n",
        "fig, ax = plt.subplots()\n",
        "\n",
        "ideal = n*k\n",
        "plt.xlim([n/2.0,200*ideal])\n",
        "plt.ylim([epsilon/3.0, 1000])\n",
        "ax.plot(xa, ya, marker='o', color='b', label = \"Adaptive\")\n",
        "ax.plot(xu, yu, marker='o', color='y', label = \"Uniform\")\n",
        "\n",
        "  \n",
        "ax.axvline(x=ideal, color = 'r', label = 'Exact Computation')\n",
        "ax.set_xscale('log')\n",
        "ax.set_yscale('log')\n",
        "ax.set(xlabel='Total Queries', ylabel='Loss', title=f'Performance Comparision')\n",
        "ax.grid()\n",
        "ax.legend()\n",
        "plt.show()"
      ]
    },
    {
      "cell_type": "code",
      "source": [
        "def adaptive_batch(n, f ,target_mu, epsilon, delta, rng):\n",
        "  \"\"\"\n",
        "General version of Algorithm1\n",
        "  \"\"\"\n",
        "  budget = n\n",
        "  runbudget = 0\n",
        "  r = 1\n",
        "  guessed_set = [0 for i in range(n)] #keep track of guesses, actually only need to check average otherwise memory is toast \n",
        "  guessed_total = [0 for i in range(n)] \n",
        "  L = 1\n",
        "  tot = 0\n",
        "  query_history = []\n",
        "  losses = []\n",
        "  \n",
        "  while True:\n",
        "    curr_budget = np.ceil(budget*(2-rng/200)**(r-1))\n",
        "    alloc = np.ceil(curr_budget/n)\n",
        "    for i in range(n):\n",
        "      guessed_set[i] =  ( guessed_set[i] * guessed_total[i] + alloc * np.random.normal(loc = target_mu[i] , scale = 1/(alloc**0.5)) ) / (alloc + guessed_total[i])\n",
        "      guessed_total[i] = guessed_total[i] + alloc\n",
        "    \n",
        "    guess_mu = guessed_set\n",
        "    runbudget = guessed_total[0]\n",
        "    C_r = np.sqrt(  (np.log(1.0 / delta)) /runbudget)\n",
        "\n",
        "    g = partial_derivative(f,guess_mu)\n",
        "    gL = [ max(abs(i) - C_r, 0.00001) for i in g]\n",
        "    gU = [ abs(i) +  C_r for i in g]\n",
        "    sums = sum(gL)\n",
        "   \n",
        "    ai = [float(i)/float(sums) for i in gL]\n",
        "    Ti = [np.ceil(min(r,10) * curr_budget * ai[i]) for i in range(n)]\n",
        "    \n",
        "    gs = [0 for i in range(n)]\n",
        "    gt = [0 for i in range(n)]\n",
        "    for z in range(n):\n",
        "      gs[z] =  ( guessed_set[z] * guessed_total[z] + Ti[z] * np.random.normal(loc = target_mu[z] , scale = 1/(Ti[z]**0.5)) ) / (guessed_total[z] + Ti[z])\n",
        "      gt[z] = guessed_total[z] + Ti[z]\n",
        "    final_guess = gs\n",
        "    loss = abs(f(*final_guess) - f(*target_mu))\n",
        "    status = loss < epsilon\n",
        "    losses.append(loss)\n",
        "    query_history.append(sum(gt))\n",
        "    check = sum([float(gU[i]**2) / float(guessed_total[i] + Ti[i]) for i in range(n)])\n",
        "\n",
        "    if  check <= (epsilon**2) / (16 * np.log(1/delta)):\n",
        "\n",
        "      for z in range(n):\n",
        "        guessed_set[z] =  ( guessed_set[z] * guessed_total[i] + Ti[z] * np.random.normal(loc = target_mu[z] , scale = 1/(Ti[z]**0.5)) ) / (guessed_total[z] + Ti[z])\n",
        "        guessed_total[z] = guessed_total[z] + Ti[z]\n",
        "     \n",
        "      final_guess = guessed_set\n",
        "      loss = abs(f(*final_guess) - f(*target_mu))\n",
        "      status = loss < epsilon\n",
        "      losses.append(loss)\n",
        "      query_history.append(sum(guessed_total))\n",
        "      return guessed_set, losses, query_history, guessed_total\n",
        "    else:\n",
        "      r = r+1\n",
        "      \n",
        "      \n"
      ],
      "metadata": {
        "id": "kmuFl1p7sbPE"
      },
      "execution_count": 47,
      "outputs": []
    },
    {
      "cell_type": "code",
      "source": [],
      "metadata": {
        "id": "xPGtCwRkioTN"
      },
      "execution_count": 47,
      "outputs": []
    },
    {
      "cell_type": "code",
      "source": [
        "# Uniform sampling for the general case\n",
        "def uniform_batch(n, f, target_mu, epsilon, delta, rng):\n",
        "  \n",
        "  starting = n\n",
        "  runbudget = 0\n",
        "  losses = []\n",
        "  queries = []\n",
        "  L = 1\n",
        "  r = 1\n",
        "  guessed_set = [0 for i in range(n)]\n",
        "  guessed_total = [0 for i in range(n)]\n",
        "  while True:\n",
        "    budget = np.ceil(starting / n)\n",
        "    runbudget = runbudget + budget\n",
        "\n",
        "    for i in range(n):\n",
        "      guessed_set[i] =  ( guessed_set[i] * guessed_total[i] + budget * np.random.normal(loc = target_mu[i] , scale = 1/(budget**0.5)) ) / (budget + guessed_total[i])\n",
        "      guessed_total[i] = guessed_total[i] + budget\n",
        "    \n",
        "    C_r = np.sqrt(  (np.log(1.0 / delta)) /runbudget)\n",
        "    guess_mu = guessed_set\n",
        "    g = partial_derivative(f,guess_mu)\n",
        "    sums = sum(g)\n",
        "    gU = [ abs(i) +  C_r for i in g]\n",
        "\n",
        "    check = sum([float(gU[i]**2) / float(guessed_total[i]) for i in range(n)])\n",
        "\n",
        "    queries.append(sum(guessed_total))\n",
        "    losses.append(abs(f(*guess_mu) - f(*target_mu)))\n",
        "    if  check <  (epsilon**2) / (16 * np.log(1/delta)) :\n",
        "      return losses, queries, guessed_total\n",
        "    else:\n",
        "      starting = starting * (2-(rng/200))\n",
        "      r = r+1\n"
      ],
      "metadata": {
        "id": "16LNx8HpuWFA"
      },
      "execution_count": 48,
      "outputs": []
    },
    {
      "cell_type": "code",
      "execution_count": 49,
      "metadata": {
        "id": "c2OJUCO4lf51"
      },
      "outputs": [],
      "source": [
        "# Plot the gains per test\n",
        "def plot_gains(n = 100, k = 10000,epsilon = 10**-4,delta  = 0.01, points = 10, trials = 20):\n",
        "  queries = []\n",
        "  uniform_queries = []\n",
        "  proj = []\n",
        "  act = []\n",
        "  pts = []\n",
        "  for i in range(points):\n",
        "    A , mu , x = generate_Ax_test(n,k)\n",
        "    mu = mu.T[0]\n",
        "    data_q = []\n",
        "    data_uq = []\n",
        "    for j in range(trials):\n",
        "      rng = np.random.randint(0,100) \n",
        "      e, l, q, t = adaptive_batch(n, power , mu,epsilon, delta, rng)      \n",
        "      ul, uq, ut = uniform_batch(n, power , mu,epsilon, delta, rng)      \n",
        "      assert(l[-1] < epsilon)\n",
        "      assert(ul[-1] < epsilon)\n",
        "      data_q.append(q[-1])\n",
        "      data_uq.append(uq[-1])\n",
        "\n",
        "    proj_gain = gain(power,n,mu)\n",
        "    act_gain = np.mean(data_uq) / np.mean(data_q)\n",
        "    proj.append(proj_gain)\n",
        "    act.append(act_gain)\n",
        "    pts.append([proj_gain,act_gain])\n",
        "  plt.figure(figsize = (10,10))\n",
        "  plt.ylabel('Empirical adaptive gain')\n",
        "  plt.xlabel('Theoretical adaptive gain')\n",
        "  plt.xlim((0.9, n*1.1)) # restricts x axis from 0 to 25\n",
        "  plt.ylim((0.9, n*1.1)) # restricts x axis from 0 to 25\n",
        "  plt.plot([0.9, n*1.1], [0.9,n*1.1], '--r', color = 'b', label = 'Ideal line') # plots line y = x\n",
        "  plt.scatter(proj,act, color = 'r')\n",
        "\n",
        "  return proj,act\n",
        "\n",
        "\n",
        "\n",
        "\n"
      ]
    },
    {
      "cell_type": "code",
      "source": [
        "# plot and see the gradient matches the hypothesis in report\n",
        "proj, act = plot_gains(n = 10, k = 10000 , points = 50)\n",
        "proj = [[i] for i in proj]\n",
        "model = LinearRegression().fit(proj,act)\n",
        "x = model.coef_\n",
        "print(\"Empirical gain ratio\", x)"
      ],
      "metadata": {
        "colab": {
          "base_uri": "https://localhost:8080/",
          "height": 678
        },
        "id": "UQ_Jf4jU1oxJ",
        "outputId": "6c5e637e-e1ab-4b32-97ed-04fe446ded3a"
      },
      "execution_count": 50,
      "outputs": [
        {
          "output_type": "stream",
          "name": "stdout",
          "text": [
            "Empirical gain ratio [0.81225673]\n"
          ]
        },
        {
          "output_type": "stream",
          "name": "stderr",
          "text": [
            "<ipython-input-49-d6656be644f2>:36: UserWarning: color is redundantly defined by the 'color' keyword argument and the fmt string \"--r\" (-> color='r'). The keyword argument will take precedence.\n",
            "  plt.plot([0.9, n*1.1], [0.9,n*1.1], '--r', color = 'b', label = 'Ideal line') # plots line y = x\n"
          ]
        },
        {
          "output_type": "display_data",
          "data": {
            "text/plain": [
              "<Figure size 720x720 with 1 Axes>"
            ],
            "image/png": "[encoded data removed]"
          },
          "metadata": {
            "needs_background": "light"
          }
        }
      ]
    },
    {
      "cell_type": "code",
      "source": [
        "def adaptive_thresholding(n, f ,target_mu, threshold, delta, rng):\n",
        "  \"\"\"\n",
        "  Algorithm1 for the thresholding variant\n",
        "  \"\"\"\n",
        "  budget = n\n",
        "  runbudget = 0\n",
        "  r = 1\n",
        "  guessed_set = [0 for i in range(n)] \n",
        "  guessed_total = [0 for i in range(n)] \n",
        "  L = 1\n",
        "  tot = 0\n",
        "  query_history = []\n",
        "  losses = []\n",
        "\n",
        "  while True:\n",
        "    curr_budget = np.ceil(budget*(2-rng/200)**(r-1))\n",
        "    alloc = np.ceil(curr_budget/n)\n",
        "    for i in range(n):\n",
        "      guessed_set[i] =  ( guessed_set[i] * guessed_total[i] + alloc * np.random.normal(loc = target_mu[i] , scale = 1/(alloc**0.5)) ) / (alloc + guessed_total[i])\n",
        "      guessed_total[i] = guessed_total[i] + alloc    \n",
        "    guess_mu = guessed_set\n",
        "    runbudget = guessed_total[0]\n",
        "\n",
        "    g = partial_derivative(f,guess_mu)\n",
        "    C_r = np.sqrt(  (np.log(1.0 / delta)) /runbudget)\n",
        "\n",
        "    gL = [ max(abs(i) - C_r, 0.00001) for i in g]\n",
        "    gU = [ abs(i) +  C_r for i in g]\n",
        "    sums = sum(gL)\n",
        "   \n",
        "    ai = [float(i)/float(sums) for i in gL]\n",
        "    Ti = [np.ceil(min(r,10) * curr_budget * (ai[i]+1/n)) for i in range(n)]\n",
        "    \n",
        "    gs = [0 for i in range(n)]\n",
        "    gt = [0 for i in range(n)]\n",
        "    for z in range(n):\n",
        "      gs[z] =  np.random.normal(loc = target_mu[z] , scale = 1/(Ti[z]**0.5)) \n",
        "      gt[z] = Ti[z]\n",
        "    final_guess = gs\n",
        "    loss = abs(f(*final_guess) - f(*target_mu))\n",
        "    status = loss < epsilon\n",
        "    losses.append(loss)\n",
        "    query_history.append(sum(gt))\n",
        "    check = sum([float(gU[i]**2) / float(guessed_total[i] + Ti[i]) for i in range(n)])\n",
        "    Crf1 = np.sqrt(2 * np.log(24.0 * r * r / delta ) * check)\n",
        "    Crf2 = (L * n * np.log(24.0 * r * r / delta )) / runbudget\n",
        "    Crf = Crf1+Crf2 \n",
        "    bound = abs(f(*final_guess) - threshold)\n",
        "    if  Crf <= bound:\n",
        "      final_estimate = final_guess\n",
        "      return (f(*final_estimate) > threshold), losses, query_history, f(*final_estimate), gt\n",
        "    else:\n",
        "      r = r+1\n",
        "      \n",
        "      \n"
      ],
      "metadata": {
        "id": "6HLHZoi-2vYE"
      },
      "execution_count": 51,
      "outputs": []
    },
    {
      "cell_type": "code",
      "source": [
        "\"\"\"\n",
        "Testing ||Ax||2 > threshold or not\n",
        "\"\"\"\n",
        "\n",
        "def test_thresholding(n = 100, k = 10000,delta  = 0.01, gap = 0.01, trials = 10):\n",
        "    expects = []\n",
        "    actuals = []\n",
        "    for i in range(trials):\n",
        "      A , mu , x = generate_Ax_test(n,k) # generate a qn\n",
        "      goal = power(*mu)\n",
        "      rng = random.randint(0,100)\n",
        "\n",
        "      hold = np.random.uniform(-1,1) * gap\n",
        "      threshold = hold + goal\n",
        "      correct =  goal > threshold\n",
        "      success = 0\n",
        "      decision, losses, query_history, guess , guessed_total = adaptive_thresholding(n, power ,mu, threshold, delta, rng)\n",
        "      if decision == correct :\n",
        "        success = success + 1\n",
        "      expects.append(sum(partial_derivative(power, mu))**2/(hold**2) + n*n*np.log(n/delta)/abs(hold))\n",
        "      actuals.append(query_history[-1])\n",
        "      \n",
        "    print(\"success rate\", success * 100 , \"%.\")   \n",
        "\n",
        "    plt.figure(figsize = (10,10))\n",
        "    plt.yscale('log')\n",
        "    plt.xscale('log')\n",
        "    plt.ylabel('Empirical Query Time')\n",
        "    plt.xlabel('Theoretical Query Time')\n",
        "    plt.xlim(min(expects)*0.9, max(expects)*1.1) # restricts x axis from 0 to 25\n",
        "    plt.ylim(min(actuals)*0.9, max(actuals)*1.1) # restricts x axis from 0 to 25\n",
        "    plt.scatter(expects,actuals, color = 'r')\n",
        "\n",
        "    \n",
        "\n",
        "\n",
        "\n",
        "\n"
      ],
      "metadata": {
        "id": "GwgR38NzW2GG"
      },
      "execution_count": 52,
      "outputs": []
    },
    {
      "cell_type": "code",
      "source": [
        "# plot shows that this is consistent with the theoritical query time\n",
        "test_thresholding(trials = 100)"
      ],
      "metadata": {
        "colab": {
          "base_uri": "https://localhost:8080/",
          "height": 626
        },
        "id": "MGfLb73rZIhR",
        "outputId": "2a252176-b122-4c9e-ea48-bee4d74eba14"
      },
      "execution_count": 53,
      "outputs": [
        {
          "output_type": "stream",
          "name": "stdout",
          "text": [
            "success rate 100 %.\n"
          ]
        },
        {
          "output_type": "display_data",
          "data": {
            "text/plain": [
              "<Figure size 720x720 with 1 Axes>"
            ],
            "image/png": "[encoded data removed]"
          },
          "metadata": {
            "needs_background": "light"
          }
        }
      ]
    },
    {
      "cell_type": "code",
      "source": [
        "\"\"\"\n",
        "general purpose partial derivative\n",
        "\"\"\"\n",
        "def partial_derivative(f,input):\n",
        "    ret = np.empty(len(input))\n",
        "    for i in range(len(input)):\n",
        "        fg = lambda x:partial_function(f,input,i,x)\n",
        "        ret[i] = nd.Derivative(fg)(input[i])\n",
        "    return ret"
      ],
      "metadata": {
        "id": "jovm0EPMHkyy"
      },
      "execution_count": 54,
      "outputs": []
    },
    {
      "cell_type": "code",
      "source": [
        "\"\"\"\n",
        "Comparing two functions \n",
        "\"\"\"\n",
        "def compare_two_functions(n, f1,f2, mu, delta):\n",
        "  def diff(*arr):\n",
        "    return f1(*arr)-f2(*arr)\n",
        "  decision, _, query_history , _  , guessed_total = adaptive_thresholding(n, diff ,mu, 0, delta, 0)\n",
        "  return decision, query_history[-1] , guessed_total#gets the decision and how much queries are spent\n",
        "\n",
        "  "
      ],
      "metadata": {
        "id": "Hjv-8xD8ZJxh"
      },
      "execution_count": 55,
      "outputs": []
    },
    {
      "cell_type": "code",
      "source": [
        "\"\"\"\n",
        "Toy Example on Function Comparision\n",
        "\"\"\"\n",
        "\n",
        "n = 2\n",
        "def f1(*arr):\n",
        "  return (2*arr[0]+3*arr[1])/1000\n",
        "def f2(*arr):\n",
        "  return (6.1*arr[0]-arr[1])/1000\n",
        "\n",
        "mu = [1,1]\n",
        "delta = 0.01\n",
        "print(compare_two_functions(n,f1,f2,mu,delta))"
      ],
      "metadata": {
        "colab": {
          "base_uri": "https://localhost:8080/"
        },
        "id": "zvCk2dbgv_Ux",
        "outputId": "5d54ee98-49ed-401f-9c57-84d1353be77e"
      },
      "execution_count": 56,
      "outputs": [
        {
          "output_type": "stream",
          "name": "stdout",
          "text": [
            "(False, 10485761.0, [5363543.0, 5122218.0])\n"
          ]
        }
      ]
    },
    {
      "cell_type": "code",
      "source": [
        "\"\"\"\n",
        "Find maximum function with naive logic tournament style\n",
        "\"\"\"\n",
        "def find_maximum_naive(n, functions, mu, delta):\n",
        "  l = len(functions)\n",
        "  curr_max = 0\n",
        "  queries = [0 for i in range(n)]\n",
        "  for i in range(1,l):\n",
        "    dec,tot,gt = compare_two_functions(n, functions[curr_max], functions[i], mu, delta / l)\n",
        "    queries  = [max(queries[j] , gt[j]) for j in range(n)]\n",
        "    if dec:\n",
        "      pass\n",
        "    else:\n",
        "      curr_max = i\n",
        "  return curr_max, queries\n"
      ],
      "metadata": {
        "id": "2fEPb77i6PGh"
      },
      "execution_count": 57,
      "outputs": []
    },
    {
      "cell_type": "code",
      "source": [
        "\"\"\"\n",
        "Better find maximum function algorithm\n",
        "\"\"\"\n",
        "def find_maximum_adaptive(n, functions, mu, delta, omega):\n",
        "  l = len(functions)\n",
        "  d = 1\n",
        "  queries = [0 for i in range(n)]\n",
        "  candidates = set([i for i in range(l)])\n",
        "  Lc = {}\n",
        "  Uc = {}\n",
        "  for c in candidates:\n",
        "    Lc[c] = float('-inf')\n",
        "    Uc[c] = float('inf')\n",
        "  r = 1\n",
        "  while len(candidates) > 1:\n",
        "    for c in candidates:\n",
        "      guess, _, query_history, arm_counts= adaptive_batch(n, functions[c], mu, d, delta/np.log(1/omega), np.random.randint(0,100))\n",
        "      queries = [max(queries[i], arm_counts[i]) for i in range(n)] #reuse pulls\n",
        "      xc = functions[c](*guess)\n",
        "      Lc[c] = max(xc-d, Lc[c])\n",
        "      Uc[c] = min(xc+d, Uc[c])\n",
        "    maxlb = max(Lc, key = Lc.get)\n",
        "    eliminated = set()\n",
        "    for c in candidates:\n",
        "      if Uc[c] < Lc[maxlb]:\n",
        "        del Uc[c]\n",
        "        del Lc[c]\n",
        "        eliminated.add(c)\n",
        "    for e in eliminated:\n",
        "      candidates.remove(e)\n",
        "    d = d/2\n",
        "    r = r+1\n",
        "  return list(candidates)[0], queries\n",
        "\n",
        "\n",
        "\n"
      ],
      "metadata": {
        "id": "DK5zYwGJ7FOW"
      },
      "execution_count": 58,
      "outputs": []
    },
    {
      "cell_type": "code",
      "source": [
        "\"\"\"\n",
        "get omega and omega*\n",
        "\"\"\"\n",
        "def get_omegas(functions, mu):\n",
        "  array = [f(*mu) for f in functions]\n",
        "  array.sort(reverse = True)\n",
        "  ans = []\n",
        "  for i in range(1, len(functions)):\n",
        "    ans.append(array[0] - array[i])\n",
        "  return ans\n",
        "\n",
        "def get_min_distance(functions, mu):\n",
        "  array = [f(*mu) for f in functions]\n",
        "  omega = float('inf')\n",
        "  for i in range(len(functions)):\n",
        "    for j in range(i+1, len(functions)):\n",
        "      omega = min(omega, abs(array[i] - array[j]))\n",
        "  return omega"
      ],
      "metadata": {
        "id": "R_fkdw22kKJJ"
      },
      "execution_count": 59,
      "outputs": []
    },
    {
      "cell_type": "code",
      "source": [
        "\"\"\"\n",
        "trial test\n",
        "\"\"\"\n",
        "n = 2\n",
        "\n",
        "def f1(*arr):\n",
        "  return (7*arr[0]-arr[1])/100000\n",
        "def f2(*arr):\n",
        "  return (6*arr[0]+arr[1])/100000\n",
        "def f3(*arr):\n",
        "  return (20*arr[0]+3*arr[1])/1000\n",
        "def f4(*arr):\n",
        "  return (7*arr[0]+3*arr[1])/1000\n",
        "def f5(*arr):\n",
        "  return (6*arr[0]+5*arr[1])/1000\n",
        "def f6(*arr):\n",
        "  return (7*arr[0]-6*arr[1])/1000\n",
        "def f7(*arr):\n",
        "  return (10*arr[0]+3*arr[1])/1000\n",
        "def f8(*arr):\n",
        "  return (7*arr[0]+11*arr[1])/1000\n",
        "def f9(*arr):\n",
        "  return (11*arr[0]+9*arr[1])/1000\n",
        "def f10(*arr):\n",
        "  return (arr[0]+arr[1])/1000\n",
        "mu = [1,1]\n",
        "functions = [f1,f2,f3,f4,f5,f6,f7,f8,f9,f10]\n",
        "delta = 0.01\n",
        "omega = get_omegas(functions,mu)\n",
        "min_dist = get_min_distance(functions, mu)\n",
        "\n",
        "print(omega, min_dist)\n",
        "print(find_maximum_adaptive(n, functions, mu, delta,omega[0]))\n",
        "print(find_maximum_naive(n, functions, mu, delta))"
      ],
      "metadata": {
        "id": "xZfghUGD5sCY",
        "colab": {
          "base_uri": "https://localhost:8080/"
        },
        "outputId": "6a9c9f05-7e8f-424b-d904-366db7886cad"
      },
      "execution_count": 60,
      "outputs": [
        {
          "output_type": "stream",
          "name": "stdout",
          "text": [
            "[0.002999999999999999, 0.005000000000000001, 0.01, 0.012, 0.013, 0.020999999999999998, 0.022, 0.02293, 0.02294] 9.999999999999992e-06\n",
            "(2, [403626.0, 192683.0])\n",
            "(2, [41943040.0, 41943040.0])\n"
          ]
        }
      ]
    },
    {
      "cell_type": "code",
      "source": [
        "for i in range(100):\n",
        "  ansa , tota = find_maximum_adaptive(n, functions, mu, delta,omega[0])\n",
        "  ansb , totb = find_maximum_naive(n, functions, mu, delta)\n",
        "\n",
        "  assert(ansa == 2)\n",
        "  assert(ansb == 2)\n"
      ],
      "metadata": {
        "id": "f_VJwGFby4L4"
      },
      "execution_count": 61,
      "outputs": []
    },
    {
      "cell_type": "code",
      "source": [
        "\"\"\"\n",
        "Create testcase. Big function is the designed \"winner\"\n",
        "\"\"\"\n",
        "def generate_function(n):\n",
        "  r = np.random.normal(loc = n/2, size = n) \n",
        "  def f(*mu):\n",
        "    ans = 0\n",
        "    for i in range(len(mu)):\n",
        "      ans = ans + r[i] * mu[i]\n",
        "    return ans/(n**4)\n",
        "  return f\n",
        "\n",
        "def generate_big_function(n):\n",
        "  r = np.random.normal(loc = n/2, size = n) \n",
        "  def f(*mu):\n",
        "    ans = 0\n",
        "    for i in range(len(mu)):\n",
        "      ans = ans + r[i] * mu[i]\n",
        "    return ans/(n**3)\n",
        "  return f\n"
      ],
      "metadata": {
        "id": "cio66fG_PNkK"
      },
      "execution_count": 62,
      "outputs": []
    },
    {
      "cell_type": "code",
      "source": [
        "\"\"\"\n",
        "Testing our maximum function algorithm\n",
        "\"\"\"\n",
        "def find_max_test(n = 5, fns = 5, rounds = 20):\n",
        "\n",
        "  diffs = []\n",
        "  times = []\n",
        "  for r in range(rounds):  \n",
        "    functions = []\n",
        "    mu = np.random.normal(loc = n/2, size = n)\n",
        "    t = np.random.randint(int(n*0.8), n)\n",
        "    \n",
        "    for i in range(fns):\n",
        "      if i != t:\n",
        "        functions.append(generate_function(n))\n",
        "      else:\n",
        "        functions.append(generate_big_function(n))\n",
        "    omega = get_omegas(functions,mu)\n",
        "    min_dist = get_min_distance(functions, mu)\n",
        "    ansa , tota = find_maximum_adaptive(n, functions, mu, 0.01,omega[0])\n",
        "    ansb , totb = find_maximum_naive(n, functions, mu, 0.01)\n",
        "    if sum(totb)/sum(tota) != 1:\n",
        "      diffs.append(omega[0]/min_dist)\n",
        "      times.append(sum(totb)/sum(tota))\n",
        "  plt.figure(figsize = (10,10))\n",
        "  plt.yscale('log')\n",
        "  plt.xscale('log')\n",
        "  plt.ylabel('Empirical Gain')\n",
        "  plt.xlabel('Ratio of Distance')\n",
        "  plt.xlim(min(diffs)*0.9, max(diffs)*1.1) # restricts x axis from 0 to 25\n",
        "  plt.ylim(min(times)*0.9, max(times)*1.1) # restricts x axis from 0 to 25\n",
        "  plt.scatter(diffs,times, color = 'r')\n",
        "\n"
      ],
      "metadata": {
        "id": "76fR_W2G26oU"
      },
      "execution_count": 63,
      "outputs": []
    },
    {
      "cell_type": "code",
      "source": [
        "find_max_test(n = 5, fns = 5, rounds = 50)"
      ],
      "metadata": {
        "colab": {
          "base_uri": "https://localhost:8080/",
          "height": 609
        },
        "id": "oVD2Fzx2vbN2",
        "outputId": "e1ee0aaa-432c-411a-d326-bef2a05b5b0b"
      },
      "execution_count": 64,
      "outputs": [
        {
          "output_type": "display_data",
          "data": {
            "text/plain": [
              "<Figure size 720x720 with 1 Axes>"
            ],
            "image/png": "[encoded data removed]"
          },
          "metadata": {
            "needs_background": "light"
          }
        }
      ]
    },
    {
      "cell_type": "code",
      "source": [
        "\"\"\"\n",
        "Find best mu for a fix function\n",
        "\"\"\"\n",
        "def find_best_mu_adaptive(n, f, mus, delta, dist):\n",
        "  l = len(mus)\n",
        "  d = 1\n",
        "  queries = 0\n",
        "  candidates = set([i for i in range(l)])\n",
        "  Lc = {}\n",
        "  Uc = {}\n",
        "  for c in candidates:\n",
        "    Lc[c] = float('-inf')\n",
        "    Uc[c] = float('inf')\n",
        "  r = 1\n",
        "  while len(candidates) > 1:\n",
        "    for c in candidates:\n",
        "      guess, _, query_history, _ = adaptive_batch(n, f, mus[c], d, delta/(l*np.log(1/dist)), 0)\n",
        "      xc = f(*guess)\n",
        "      queries = queries + query_history[-1]\n",
        "      Lc[c] = max(xc-d, Lc[c])\n",
        "      Uc[c] = min(xc+d, Uc[c])\n",
        "    maxlb = max(Lc, key = Lc.get)\n",
        "    eliminated = set()\n",
        "    for c in candidates:\n",
        "      if Uc[c] < Lc[maxlb]:\n",
        "        del Uc[c]\n",
        "        del Lc[c]\n",
        "        eliminated.add(c)\n",
        "    for e in eliminated:\n",
        "      candidates.remove(e)\n",
        "    d = d/2\n",
        "    r = r+1\n",
        "  return list(candidates)[0], queries\n",
        "\n"
      ],
      "metadata": {
        "id": "Rk1aJsyliK3C"
      },
      "execution_count": 65,
      "outputs": []
    },
    {
      "cell_type": "code",
      "source": [],
      "metadata": {
        "id": "UuVimx_zqgS6"
      },
      "execution_count": 65,
      "outputs": []
    },
    {
      "cell_type": "code",
      "source": [
        "\"\"\"\n",
        "Get Deltas and Deltas*\n",
        "\"\"\"\n",
        "def get_deltas(f, mus):\n",
        "  array = [f(*mu) for mu in mus]\n",
        "  array.sort(reverse = True)\n",
        "  ans = []\n",
        "  for i in range(1, len(mus)):\n",
        "    ans.append(array[0] - array[i])\n",
        "  return ans\n",
        "\n",
        "def get_min_eval(f, mus):\n",
        "  array = [f(*mu) for mu in mus]\n",
        "  delta = float('inf')\n",
        "  for i in range(len(mus)):\n",
        "    for j in range(i+1, len(mus)):\n",
        "      delta = min(delta, abs(array[i] - array[j]))\n",
        "  return delta"
      ],
      "metadata": {
        "id": "sMOsuAYrqs5d"
      },
      "execution_count": 66,
      "outputs": []
    },
    {
      "cell_type": "code",
      "source": [
        "\"\"\"\n",
        "Calculate expected pulls theoritically\n",
        "\"\"\"\n",
        "def expected_pulls(f, mus, delta,n):\n",
        "  ans = 0\n",
        "  k = len(mus)\n",
        "  d = get_deltas(f, mus)\n",
        "  d.append(d[0])\n",
        "  s = max([sum(partial_derivative(f,mus[i]))**2 for i in range(len(mus))])\n",
        "  print(s)\n",
        "  for i in range(len(mus)):\n",
        "    ans = ans + k*s*s* np.log(np.log(1/d[i])* k / delta) / (d[i]**2) + (k *n*n*np.log(1/d[i]) * k) /(delta * d[i])\n",
        "  return ans"
      ],
      "metadata": {
        "id": "1yaSCdBbQ65L"
      },
      "execution_count": 67,
      "outputs": []
    },
    {
      "cell_type": "code",
      "source": [
        "\"\"\"\n",
        "Toy example for small n, mu\n",
        "\"\"\"\n",
        "n = 2\n",
        "def f1(*arr):\n",
        "  return (2*arr[0]+3*arr[1])/20000\n",
        "\n",
        "mu1 = [1,1] \n",
        "mu2 = [0,1]\n",
        "mu3 = [2,1]\n",
        "mus = [mu1,mu2,mu3]\n",
        "delta = 0.01\n",
        "\n",
        "d = get_deltas(f1,mus)\n",
        "print(find_best_mu_adaptive(n, f1, mus, delta,d[0]))\n",
        "print(expected_pulls(f1,mus,delta,n))"
      ],
      "metadata": {
        "colab": {
          "base_uri": "https://localhost:8080/"
        },
        "id": "NzSz-HGbSPeL",
        "outputId": "3bc69683-8340-4932-b86e-53a39379d4d5"
      },
      "execution_count": 68,
      "outputs": [
        {
          "output_type": "stream",
          "name": "stdout",
          "text": [
            "(2, 62907842.0)\n",
            "6.250000000000002e-08\n",
            "816453984.2277985\n"
          ]
        }
      ]
    },
    {
      "cell_type": "code",
      "source": [
        "\"\"\"\n",
        "Test for largest mu\n",
        "\"\"\"\n",
        "def find_max_test(n = 5, mus = 5, rounds = 20):\n",
        "\n",
        "  expect = []\n",
        "  actual = []\n",
        "  \n",
        "  for r in range(rounds):  \n",
        "    mul = []\n",
        "    f = generate_function(n)\n",
        "    \n",
        "    for i in range(mus):\n",
        "      mu = np.random.normal(loc = n/2, size = n)\n",
        "      mul.append(mu)\n",
        "    delta = get_deltas(f,mul)\n",
        "    ansa , tota = find_best_mu_adaptive(n, f, mul, 0.01,delta[0])\n",
        "    actual.append(tota)\n",
        "    expect.append(expected_pulls(f,mul,0.01,n))\n",
        "  plt.figure(figsize = (10,10))\n",
        "  plt.yscale('log')\n",
        "  plt.xscale('log')\n",
        "  plt.ylabel('Actual')\n",
        "  plt.xlabel('Expected')\n",
        "  plt.xlim(min(expect)*0.9, max(expect)*1.1) # restricts x axis from 0 to 25\n",
        "  plt.ylim(min(actual)*0.9, max(actual)*1.1) # restricts x axis from 0 to 25\n",
        "  plt.scatter(expect,actual, color = 'r')\n",
        "\n"
      ],
      "metadata": {
        "id": "LO8QgmC5SWYx"
      },
      "execution_count": 69,
      "outputs": []
    },
    {
      "cell_type": "code",
      "source": [
        "find_max_test()"
      ],
      "metadata": {
        "colab": {
          "base_uri": "https://localhost:8080/",
          "height": 956
        },
        "id": "iJ4fo32uU_PS",
        "outputId": "794750a3-a152-4688-b7c5-524dd3819700"
      },
      "execution_count": 70,
      "outputs": [
        {
          "output_type": "stream",
          "name": "stdout",
          "text": [
            "0.0008196191372813352\n",
            "0.0005338598660100714\n",
            "0.0003699637537781279\n",
            "0.0003984747631917555\n",
            "0.0004267368683107996\n",
            "0.0005064723355913842\n",
            "0.0003824825755056852\n",
            "0.00033502957511029845\n",
            "0.0002914701659519187\n",
            "0.0004444060825353914\n",
            "0.0003209864712099652\n",
            "0.0001723707245236127\n",
            "0.00035198030473489845\n",
            "0.0004586853562272188\n",
            "0.0005319615642340427\n",
            "0.00048596157888092234\n",
            "0.0002433480842590662\n",
            "0.00043329661367951265\n",
            "0.00034670326382901903\n",
            "0.00019130075217702082\n"
          ]
        },
        {
          "output_type": "display_data",
          "data": {
            "text/plain": [
              "<Figure size 720x720 with 1 Axes>"
            ],
            "image/png": "[encoded data removed]"
          },
          "metadata": {
            "needs_background": "light"
          }
        }
      ]
    },
    {
      "cell_type": "code",
      "source": [],
      "metadata": {
        "id": "KYM4L3vUVBJz"
      },
      "execution_count": 70,
      "outputs": []
    }
  ],
  "metadata": {
    "colab": {
      "provenance": []
    },
    "gpuClass": "standard",
    "kernelspec": {
      "display_name": "Python 3",
      "name": "python3"
    },
    "language_info": {
      "name": "python"
    }
  },
  "nbformat": 4,
  "nbformat_minor": 0
}